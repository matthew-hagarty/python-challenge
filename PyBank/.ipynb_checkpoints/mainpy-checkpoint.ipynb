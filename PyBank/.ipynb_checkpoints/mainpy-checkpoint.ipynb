{
 "cells": [
  {
   "cell_type": "code",
   "execution_count": 1,
   "id": "c642d2f2",
   "metadata": {
    "scrolled": true
   },
   "outputs": [
    {
     "name": "stdout",
     "output_type": "stream",
     "text": [
      "Financial Analysis \n",
      "-------------------------------------------------------------------- \n",
      "Total months: 86\n",
      "Total : $22564198\n",
      "Average Change: $-8311.11\n",
      "Greatest Increase in Profits: Mar-13 ($1141840) \n",
      "Greatest Decrease in Profits: Dec-10 ($-1194133)\n"
     ]
    }
   ],
   "source": [
    "import os\n",
    "import csv\n",
    "\n",
    "budget_file = \"Resources/budget_data.csv\"\n",
    "\n",
    "months = 0             #initial value for months is 0\n",
    "total = 0              #initial value for total profits/losses is 0\n",
    "priormonth = 0         #initial value for calculating change\n",
    "monthprofit = 0        #initial value for the profit of each month\n",
    "monthlychange = []     #empty list to store monthly change in profits\n",
    "gincrease = 0          #initial value of the greatest increase in profits\n",
    "gdecrease = 0          #initial value of the greatest decrease in profits\n",
    "gincmonth = \"\"         #initial value of the month of greatest increase in profits\n",
    "gdecmonth = \"\"         #initial value of the month of greatest decrease in profits\n",
    "\n",
    "\n",
    "with open(budget_file) as csvfile:                        #open csv file\n",
    "    \n",
    "    csvreader = csv.reader(csvfile)                       #read csv file\n",
    "    \n",
    "    pybank_header = next(csvreader)                       #skips past the header which says [month, profits]\n",
    "    \n",
    "    for row in csvreader:                                 #for loop to count over all months\n",
    "        months += 1                                       #count up one month\n",
    "        monthprofit = int(row[1])                         #making the variable for the month's profit\n",
    "        total = total + monthprofit                       #total is the sum of all months changes\n",
    "        if months >= 2:                                   #this line is to keep track of changes, but we don't want changes for the first month from 0, only changes after that\n",
    "            change = monthprofit - priormonth             #change between months' profits\n",
    "            monthlychange.append(change)                  #append the change to the list\n",
    "        priormonth = monthprofit                          #change the month's profit to the prior month for the next loop\n",
    "        if monthprofit > gincrease :                      #if statement to see if the profit is the greatest increase\n",
    "            gincrease = monthprofit                       #change the increase to become greatest\n",
    "            gincmonth = row[0]                            #change the month to become the month of greatest increase\n",
    "        if monthprofit < gdecrease :                      #if statement to see if the profit is the greatest decrease\n",
    "            gdecrease = monthprofit                       #change the decrease to become greatest\n",
    "            gdecmonth = row[0]                            #change the month to become the month of greatest decrease\n",
    "    \n",
    "    avgchange = round(sum(monthlychange) / len(monthlychange), 2) #average of the changes, rounded to the penny's place (code for average from classmate Cody)\n",
    "\n",
    "    #make a text statement with our desired variables\n",
    "    text = ( \n",
    "          \"Financial Analysis \\n\" +\n",
    "          \"-------------------------------------------------------------------- \\n\" +\n",
    "          \"Total months: \" + str(months) + \"\\n\" +\n",
    "          \"Total : $\" + str(total) + \"\\n\" +\n",
    "          \"Average Change: $\" + str(avgchange) + \"\\n\" +\n",
    "          \"Greatest Increase in Profits: \" + gincmonth + \" ($\" + str(gincrease) + \") \\n\" +\n",
    "          \"Greatest Decrease in Profits: \" + gdecmonth + \" ($\" + str(gdecrease) + \")\"\n",
    "    )\n",
    "    \n",
    "#print the text to the terminal\n",
    "print(text)\n",
    "\n",
    "#include text in a file in the analysis folder (code from https://datagy.io/python-write-text-file/)\n",
    "analysis_file = \"Analysis/Analysis_of_PyBank.txt\"\n",
    "\n",
    "with open(analysis_file, 'w') as text_file:\n",
    "    text_file.write(text)\n"
   ]
  },
  {
   "cell_type": "code",
   "execution_count": null,
   "id": "4e07249b",
   "metadata": {},
   "outputs": [],
   "source": []
  }
 ],
 "metadata": {
  "kernelspec": {
   "display_name": "Python 3 (ipykernel)",
   "language": "python",
   "name": "python3"
  },
  "language_info": {
   "codemirror_mode": {
    "name": "ipython",
    "version": 3
   },
   "file_extension": ".py",
   "mimetype": "text/x-python",
   "name": "python",
   "nbconvert_exporter": "python",
   "pygments_lexer": "ipython3",
   "version": "3.10.9"
  }
 },
 "nbformat": 4,
 "nbformat_minor": 5
}
