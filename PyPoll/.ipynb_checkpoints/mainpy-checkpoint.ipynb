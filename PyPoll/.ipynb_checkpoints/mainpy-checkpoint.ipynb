{
 "cells": [
  {
   "cell_type": "code",
   "execution_count": 1,
   "id": "463f2728",
   "metadata": {},
   "outputs": [
    {
     "name": "stdout",
     "output_type": "stream",
     "text": [
      "Election Results \n",
      "--------------------------------------------- \n",
      "Total Votes: 369711\n",
      "--------------------------------------------- \n",
      "Charles Casper Stockham: 23.049% (85213) \n",
      "Diana DeGette: 73.812% (272892) \n",
      "Raymon Anthony Doane: 3.139% (11606) \n",
      "--------------------------------------------- \n",
      "Winner: Diana DeGette\n"
     ]
    }
   ],
   "source": [
    "import os\n",
    "import csv                           #imports to read csv files\n",
    "\n",
    "total_votes = 0                      #initial values for variables used in script\n",
    "candidates_list = []\n",
    "candidates_pct = []\n",
    "candidates_votes = {}\n",
    "candidates_string = \"\"\n",
    "winner_votes = 0\n",
    "winner = \"\"\n",
    "\n",
    "poll_file = \"Resources/election_data.csv\"          #file where the csv comes from\n",
    "\n",
    "with open(poll_file) as csvfile:                   #open csv file\n",
    "    \n",
    "    csvreader = csv.reader(csvfile)                #read csv file\n",
    "    \n",
    "    pypoll_header = next(csvreader)                #skip header and save as variable\n",
    "    \n",
    "    for row in csvreader:                          #for loop\n",
    "        \n",
    "        total_votes += 1                           #increase total votes by 1 for each vote/row\n",
    "        \n",
    "        if row[2] not in candidates_list:          #check and see if candidate is in the list of candidates, and if not:\n",
    "            candidates_list.append(row[2])         #add them to the list\n",
    "            candidates_votes[row[2]] = 1           #forgot how to add value to a dictionary so used stack overflow for help, used this line of code from it\n",
    "                                                   #also starting at 1 because now there is one vote for the candidate\n",
    "        else:\n",
    "            candidates_votes[row[2]] = candidates_votes[row[2]] + 1          #increase the vote count for said candidate by 1\n",
    "\n",
    "for i in range(len(candidates_list)):\n",
    "    person = candidates_list[i]\n",
    "    candidates_pct.append(round(candidates_votes[person] / total_votes*100, 3))                   #calculate percentage of votes for each candidate\n",
    "    candidates_string += (f'{person}: {candidates_pct[i]}% ({candidates_votes[person]}) \\n')      #add a string so the printed out text will appear with this string\n",
    "    if candidates_votes[person] > winner_votes:                                                   #finding the winning candidate by getting the greates number of votes\n",
    "        winner_votes = candidates_votes[person]\n",
    "        winner = person\n",
    "\n",
    "        \n",
    "text = (                                                    #make a text string with the information we desire in the string, such as votes and percentage of votes\n",
    "    \"Election Results \\n\" +\n",
    "    \"--------------------------------------------- \\n\" + \n",
    "    \"Total Votes: \" + str(total_votes) + \"\\n\" +\n",
    "    \"--------------------------------------------- \\n\" +\n",
    "    candidates_string +\n",
    "    \"--------------------------------------------- \\n\" +\n",
    "    \"Winner: \" + winner\n",
    ")\n",
    "\n",
    "print(text)                                                 #print the result to the terminal\n",
    "\n",
    "analysis_file = \"Analysis/Analysis_of_PyPoll.txt\"\n",
    "\n",
    "with open(analysis_file, 'w') as text_file:                 #make the result a text file (code used from https://datagy.io/python-write-text-file/)\n",
    "    text_file.write(text)\n"
   ]
  },
  {
   "cell_type": "code",
   "execution_count": null,
   "id": "271590e3",
   "metadata": {},
   "outputs": [],
   "source": []
  }
 ],
 "metadata": {
  "kernelspec": {
   "display_name": "Python 3 (ipykernel)",
   "language": "python",
   "name": "python3"
  },
  "language_info": {
   "codemirror_mode": {
    "name": "ipython",
    "version": 3
   },
   "file_extension": ".py",
   "mimetype": "text/x-python",
   "name": "python",
   "nbconvert_exporter": "python",
   "pygments_lexer": "ipython3",
   "version": "3.10.9"
  }
 },
 "nbformat": 4,
 "nbformat_minor": 5
}
